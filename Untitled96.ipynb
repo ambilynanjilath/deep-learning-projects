{
  "nbformat": 4,
  "nbformat_minor": 0,
  "metadata": {
    "colab": {
      "provenance": [],
      "authorship_tag": "ABX9TyPm466K/CB51SB0JFkDlmtV",
      "include_colab_link": true
    },
    "kernelspec": {
      "name": "python3",
      "display_name": "Python 3"
    },
    "language_info": {
      "name": "python"
    }
  },
  "cells": [
    {
      "cell_type": "markdown",
      "metadata": {
        "id": "view-in-github",
        "colab_type": "text"
      },
      "source": [
        "<a href=\"https://colab.research.google.com/github/ambilynanjilath/deep-learning-projects/blob/master/Untitled96.ipynb\" target=\"_parent\"><img src=\"https://colab.research.google.com/assets/colab-badge.svg\" alt=\"Open In Colab\"/></a>"
      ]
    },
    {
      "cell_type": "code",
      "source": [
        "!pip install playwright"
      ],
      "metadata": {
        "colab": {
          "base_uri": "https://localhost:8080/"
        },
        "id": "_G90bAam1Txg",
        "outputId": "fe39893a-8ae6-40cf-b2ba-b8c738d622fd"
      },
      "execution_count": null,
      "outputs": [
        {
          "output_type": "stream",
          "name": "stdout",
          "text": [
            "Collecting playwright\n",
            "  Downloading playwright-1.43.0-py3-none-manylinux1_x86_64.whl (37.3 MB)\n",
            "\u001b[2K     \u001b[90m━━━━━━━━━━━━━━━━━━━━━━━━━━━━━━━━━━━━━━━━\u001b[0m \u001b[32m37.3/37.3 MB\u001b[0m \u001b[31m38.4 MB/s\u001b[0m eta \u001b[36m0:00:00\u001b[0m\n",
            "\u001b[?25hRequirement already satisfied: greenlet==3.0.3 in /usr/local/lib/python3.10/dist-packages (from playwright) (3.0.3)\n",
            "Collecting pyee==11.1.0 (from playwright)\n",
            "  Downloading pyee-11.1.0-py3-none-any.whl (15 kB)\n",
            "Requirement already satisfied: typing-extensions in /usr/local/lib/python3.10/dist-packages (from pyee==11.1.0->playwright) (4.11.0)\n",
            "Installing collected packages: pyee, playwright\n",
            "Successfully installed playwright-1.43.0 pyee-11.1.0\n"
          ]
        }
      ]
    },
    {
      "cell_type": "code",
      "source": [
        "!playwright install"
      ],
      "metadata": {
        "colab": {
          "base_uri": "https://localhost:8080/"
        },
        "id": "Ak6Weqkj1ySg",
        "outputId": "3140f845-eedd-4dbf-bf3d-a5884f3399ea"
      },
      "execution_count": null,
      "outputs": [
        {
          "output_type": "stream",
          "name": "stdout",
          "text": [
            "Downloading Chromium 124.0.6367.29 (playwright build v1112)\u001b[2m from https://playwright.azureedge.net/builds/chromium/1112/chromium-linux.zip\u001b[22m\n",
            "\u001b[1G155.3 MiB [] 0% 0.0s\u001b[0K\u001b[1G155.3 MiB [] 0% 11.4s\u001b[0K\u001b[1G155.3 MiB [] 0% 9.1s\u001b[0K\u001b[1G155.3 MiB [] 0% 8.0s\u001b[0K\u001b[1G155.3 MiB [] 0% 7.5s\u001b[0K\u001b[1G155.3 MiB [] 1% 7.2s\u001b[0K\u001b[1G155.3 MiB [] 1% 7.0s\u001b[0K\u001b[1G155.3 MiB [] 1% 6.8s\u001b[0K\u001b[1G155.3 MiB [] 2% 6.6s\u001b[0K\u001b[1G155.3 MiB [] 2% 6.4s\u001b[0K\u001b[1G155.3 MiB [] 3% 6.7s\u001b[0K\u001b[1G155.3 MiB [] 3% 6.5s\u001b[0K\u001b[1G155.3 MiB [] 3% 6.4s\u001b[0K\u001b[1G155.3 MiB [] 4% 6.2s\u001b[0K\u001b[1G155.3 MiB [] 4% 6.4s\u001b[0K\u001b[1G155.3 MiB [] 4% 6.3s\u001b[0K\u001b[1G155.3 MiB [] 4% 6.4s\u001b[0K\u001b[1G155.3 MiB [] 5% 6.2s\u001b[0K\u001b[1G155.3 MiB [] 5% 6.1s\u001b[0K\u001b[1G155.3 MiB [] 5% 6.2s\u001b[0K\u001b[1G155.3 MiB [] 6% 6.0s\u001b[0K\u001b[1G155.3 MiB [] 6% 6.1s\u001b[0K\u001b[1G155.3 MiB [] 6% 5.9s\u001b[0K\u001b[1G155.3 MiB [] 7% 5.7s\u001b[0K\u001b[1G155.3 MiB [] 8% 5.6s\u001b[0K\u001b[1G155.3 MiB [] 8% 5.4s\u001b[0K\u001b[1G155.3 MiB [] 9% 5.4s\u001b[0K\u001b[1G155.3 MiB [] 9% 5.3s\u001b[0K\u001b[1G155.3 MiB [] 10% 5.2s\u001b[0K\u001b[1G155.3 MiB [] 10% 5.1s\u001b[0K\u001b[1G155.3 MiB [] 11% 5.1s\u001b[0K\u001b[1G155.3 MiB [] 12% 4.9s\u001b[0K\u001b[1G155.3 MiB [] 12% 5.0s\u001b[0K\u001b[1G155.3 MiB [] 12% 4.8s\u001b[0K\u001b[1G155.3 MiB [] 13% 4.8s\u001b[0K\u001b[1G155.3 MiB [] 13% 4.7s\u001b[0K\u001b[1G155.3 MiB [] 14% 4.6s\u001b[0K\u001b[1G155.3 MiB [] 14% 4.4s\u001b[0K\u001b[1G155.3 MiB [] 15% 4.5s\u001b[0K\u001b[1G155.3 MiB [] 15% 4.3s\u001b[0K\u001b[1G155.3 MiB [] 16% 4.3s\u001b[0K\u001b[1G155.3 MiB [] 17% 4.2s\u001b[0K\u001b[1G155.3 MiB [] 17% 4.1s\u001b[0K\u001b[1G155.3 MiB [] 18% 4.0s\u001b[0K\u001b[1G155.3 MiB [] 19% 3.9s\u001b[0K\u001b[1G155.3 MiB [] 19% 3.8s\u001b[0K\u001b[1G155.3 MiB [] 20% 3.8s\u001b[0K\u001b[1G155.3 MiB [] 21% 3.7s\u001b[0K\u001b[1G155.3 MiB [] 22% 3.6s\u001b[0K\u001b[1G155.3 MiB [] 22% 3.5s\u001b[0K\u001b[1G155.3 MiB [] 23% 3.5s\u001b[0K\u001b[1G155.3 MiB [] 23% 3.4s\u001b[0K\u001b[1G155.3 MiB [] 24% 3.3s\u001b[0K\u001b[1G155.3 MiB [] 25% 3.3s\u001b[0K\u001b[1G155.3 MiB [] 25% 3.2s\u001b[0K\u001b[1G155.3 MiB [] 26% 3.2s\u001b[0K\u001b[1G155.3 MiB [] 27% 3.1s\u001b[0K\u001b[1G155.3 MiB [] 28% 3.1s\u001b[0K\u001b[1G155.3 MiB [] 29% 3.0s\u001b[0K\u001b[1G155.3 MiB [] 30% 2.9s\u001b[0K\u001b[1G155.3 MiB [] 31% 2.9s\u001b[0K\u001b[1G155.3 MiB [] 32% 2.8s\u001b[0K\u001b[1G155.3 MiB [] 33% 2.7s\u001b[0K\u001b[1G155.3 MiB [] 34% 2.6s\u001b[0K\u001b[1G155.3 MiB [] 35% 2.6s\u001b[0K\u001b[1G155.3 MiB [] 35% 2.5s\u001b[0K\u001b[1G155.3 MiB [] 36% 2.5s\u001b[0K\u001b[1G155.3 MiB [] 37% 2.5s\u001b[0K\u001b[1G155.3 MiB [] 38% 2.4s\u001b[0K\u001b[1G155.3 MiB [] 39% 2.3s\u001b[0K\u001b[1G155.3 MiB [] 40% 2.3s\u001b[0K\u001b[1G155.3 MiB [] 41% 2.2s\u001b[0K\u001b[1G155.3 MiB [] 42% 2.1s\u001b[0K\u001b[1G155.3 MiB [] 43% 2.1s\u001b[0K\u001b[1G155.3 MiB [] 44% 2.1s\u001b[0K\u001b[1G155.3 MiB [] 44% 2.0s\u001b[0K\u001b[1G155.3 MiB [] 45% 2.0s\u001b[0K\u001b[1G155.3 MiB [] 46% 2.0s\u001b[0K\u001b[1G155.3 MiB [] 47% 1.9s\u001b[0K\u001b[1G155.3 MiB [] 48% 1.9s\u001b[0K\u001b[1G155.3 MiB [] 48% 1.8s\u001b[0K\u001b[1G155.3 MiB [] 49% 1.8s\u001b[0K\u001b[1G155.3 MiB [] 50% 1.8s\u001b[0K\u001b[1G155.3 MiB [] 51% 1.7s\u001b[0K\u001b[1G155.3 MiB [] 52% 1.7s\u001b[0K\u001b[1G155.3 MiB [] 53% 1.6s\u001b[0K\u001b[1G155.3 MiB [] 54% 1.6s\u001b[0K\u001b[1G155.3 MiB [] 55% 1.5s\u001b[0K\u001b[1G155.3 MiB [] 56% 1.5s\u001b[0K\u001b[1G155.3 MiB [] 57% 1.4s\u001b[0K\u001b[1G155.3 MiB [] 58% 1.4s\u001b[0K\u001b[1G155.3 MiB [] 59% 1.4s\u001b[0K\u001b[1G155.3 MiB [] 60% 1.3s\u001b[0K\u001b[1G155.3 MiB [] 61% 1.3s\u001b[0K\u001b[1G155.3 MiB [] 62% 1.3s\u001b[0K\u001b[1G155.3 MiB [] 62% 1.2s\u001b[0K\u001b[1G155.3 MiB [] 63% 1.2s\u001b[0K\u001b[1G155.3 MiB [] 64% 1.2s\u001b[0K\u001b[1G155.3 MiB [] 65% 1.1s\u001b[0K\u001b[1G155.3 MiB [] 66% 1.1s\u001b[0K\u001b[1G155.3 MiB [] 67% 1.1s\u001b[0K\u001b[1G155.3 MiB [] 68% 1.0s\u001b[0K\u001b[1G155.3 MiB [] 69% 1.0s\u001b[0K\u001b[1G155.3 MiB [] 70% 1.0s\u001b[0K\u001b[1G155.3 MiB [] 71% 0.9s\u001b[0K\u001b[1G155.3 MiB [] 72% 0.9s\u001b[0K\u001b[1G155.3 MiB [] 73% 0.9s\u001b[0K\u001b[1G155.3 MiB [] 74% 0.8s\u001b[0K\u001b[1G155.3 MiB [] 75% 0.8s\u001b[0K\u001b[1G155.3 MiB [] 76% 0.8s\u001b[0K\u001b[1G155.3 MiB [] 77% 0.8s\u001b[0K\u001b[1G155.3 MiB [] 77% 0.7s\u001b[0K\u001b[1G155.3 MiB [] 78% 0.7s\u001b[0K\u001b[1G155.3 MiB [] 79% 0.7s\u001b[0K\u001b[1G155.3 MiB [] 80% 0.7s\u001b[0K\u001b[1G155.3 MiB [] 80% 0.6s\u001b[0K\u001b[1G155.3 MiB [] 81% 0.6s\u001b[0K\u001b[1G155.3 MiB [] 82% 0.6s\u001b[0K\u001b[1G155.3 MiB [] 83% 0.6s\u001b[0K\u001b[1G155.3 MiB [] 84% 0.5s\u001b[0K\u001b[1G155.3 MiB [] 85% 0.5s\u001b[0K\u001b[1G155.3 MiB [] 86% 0.5s\u001b[0K\u001b[1G155.3 MiB [] 86% 0.4s\u001b[0K\u001b[1G155.3 MiB [] 87% 0.4s\u001b[0K\u001b[1G155.3 MiB [] 88% 0.4s\u001b[0K\u001b[1G155.3 MiB [] 89% 0.4s\u001b[0K\u001b[1G155.3 MiB [] 89% 0.3s\u001b[0K\u001b[1G155.3 MiB [] 90% 0.3s\u001b[0K\u001b[1G155.3 MiB [] 91% 0.3s\u001b[0K\u001b[1G155.3 MiB [] 92% 0.3s\u001b[0K\u001b[1G155.3 MiB [] 92% 0.2s\u001b[0K\u001b[1G155.3 MiB [] 93% 0.2s\u001b[0K\u001b[1G155.3 MiB [] 94% 0.2s\u001b[0K\u001b[1G155.3 MiB [] 95% 0.1s\u001b[0K\u001b[1G155.3 MiB [] 96% 0.1s\u001b[0K\u001b[1G155.3 MiB [] 97% 0.1s\u001b[0K\u001b[1G155.3 MiB [] 98% 0.0s\u001b[0K\u001b[1G155.3 MiB [] 99% 0.0s\u001b[0K\u001b[1G155.3 MiB [] 100% 0.0s\u001b[0K\n",
            "Chromium 124.0.6367.29 (playwright build v1112) downloaded to /root/.cache/ms-playwright/chromium-1112\n",
            "Downloading FFMPEG playwright build v1009\u001b[2m from https://playwright.azureedge.net/builds/ffmpeg/1009/ffmpeg-linux.zip\u001b[22m\n",
            "\u001b[1G2.6 MiB [] 0% 0.0s\u001b[0K\u001b[1G2.6 MiB [] 6% 0.2s\u001b[0K\u001b[1G2.6 MiB [] 23% 0.1s\u001b[0K\u001b[1G2.6 MiB [] 42% 0.1s\u001b[0K\u001b[1G2.6 MiB [] 73% 0.0s\u001b[0K\u001b[1G2.6 MiB [] 99% 0.0s\u001b[0K\u001b[1G2.6 MiB [] 100% 0.0s\u001b[0K\n",
            "FFMPEG playwright build v1009 downloaded to /root/.cache/ms-playwright/ffmpeg-1009\n",
            "Downloading Firefox 124.0 (playwright build v1447)\u001b[2m from https://playwright.azureedge.net/builds/firefox/1447/firefox-ubuntu-22.04.zip\u001b[22m\n",
            "\u001b[1G85.4 MiB [] 0% 0.0s\u001b[0K\u001b[1G85.4 MiB [] 0% 6.7s\u001b[0K\u001b[1G85.4 MiB [] 0% 11.7s\u001b[0K\u001b[1G85.4 MiB [] 0% 11.4s\u001b[0K\u001b[1G85.4 MiB [] 0% 6.8s\u001b[0K\u001b[1G85.4 MiB [] 1% 5.0s\u001b[0K\u001b[1G85.4 MiB [] 2% 3.8s\u001b[0K\u001b[1G85.4 MiB [] 3% 3.1s\u001b[0K\u001b[1G85.4 MiB [] 4% 2.8s\u001b[0K\u001b[1G85.4 MiB [] 5% 2.8s\u001b[0K\u001b[1G85.4 MiB [] 5% 2.6s\u001b[0K\u001b[1G85.4 MiB [] 6% 2.6s\u001b[0K\u001b[1G85.4 MiB [] 7% 2.5s\u001b[0K\u001b[1G85.4 MiB [] 8% 2.5s\u001b[0K\u001b[1G85.4 MiB [] 9% 2.3s\u001b[0K\u001b[1G85.4 MiB [] 10% 2.3s\u001b[0K\u001b[1G85.4 MiB [] 11% 2.1s\u001b[0K\u001b[1G85.4 MiB [] 12% 2.0s\u001b[0K\u001b[1G85.4 MiB [] 13% 2.0s\u001b[0K\u001b[1G85.4 MiB [] 13% 2.1s\u001b[0K\u001b[1G85.4 MiB [] 14% 2.1s\u001b[0K\u001b[1G85.4 MiB [] 15% 2.0s\u001b[0K\u001b[1G85.4 MiB [] 16% 1.9s\u001b[0K\u001b[1G85.4 MiB [] 17% 1.9s\u001b[0K\u001b[1G85.4 MiB [] 18% 1.8s\u001b[0K\u001b[1G85.4 MiB [] 20% 1.7s\u001b[0K\u001b[1G85.4 MiB [] 21% 1.6s\u001b[0K\u001b[1G85.4 MiB [] 22% 1.6s\u001b[0K\u001b[1G85.4 MiB [] 23% 1.5s\u001b[0K\u001b[1G85.4 MiB [] 24% 1.5s\u001b[0K\u001b[1G85.4 MiB [] 26% 1.4s\u001b[0K\u001b[1G85.4 MiB [] 28% 1.3s\u001b[0K\u001b[1G85.4 MiB [] 29% 1.3s\u001b[0K\u001b[1G85.4 MiB [] 31% 1.3s\u001b[0K\u001b[1G85.4 MiB [] 32% 1.2s\u001b[0K\u001b[1G85.4 MiB [] 34% 1.1s\u001b[0K\u001b[1G85.4 MiB [] 35% 1.1s\u001b[0K\u001b[1G85.4 MiB [] 37% 1.1s\u001b[0K\u001b[1G85.4 MiB [] 39% 1.0s\u001b[0K\u001b[1G85.4 MiB [] 41% 1.0s\u001b[0K\u001b[1G85.4 MiB [] 43% 0.9s\u001b[0K\u001b[1G85.4 MiB [] 45% 0.9s\u001b[0K\u001b[1G85.4 MiB [] 46% 0.8s\u001b[0K\u001b[1G85.4 MiB [] 48% 0.8s\u001b[0K\u001b[1G85.4 MiB [] 49% 0.8s\u001b[0K\u001b[1G85.4 MiB [] 51% 0.7s\u001b[0K\u001b[1G85.4 MiB [] 54% 0.7s\u001b[0K\u001b[1G85.4 MiB [] 55% 0.7s\u001b[0K\u001b[1G85.4 MiB [] 57% 0.6s\u001b[0K\u001b[1G85.4 MiB [] 59% 0.6s\u001b[0K\u001b[1G85.4 MiB [] 60% 0.6s\u001b[0K\u001b[1G85.4 MiB [] 62% 0.5s\u001b[0K\u001b[1G85.4 MiB [] 63% 0.5s\u001b[0K\u001b[1G85.4 MiB [] 64% 0.5s\u001b[0K\u001b[1G85.4 MiB [] 65% 0.5s\u001b[0K\u001b[1G85.4 MiB [] 67% 0.5s\u001b[0K\u001b[1G85.4 MiB [] 68% 0.4s\u001b[0K\u001b[1G85.4 MiB [] 70% 0.4s\u001b[0K\u001b[1G85.4 MiB [] 72% 0.4s\u001b[0K\u001b[1G85.4 MiB [] 73% 0.4s\u001b[0K\u001b[1G85.4 MiB [] 75% 0.3s\u001b[0K\u001b[1G85.4 MiB [] 77% 0.3s\u001b[0K\u001b[1G85.4 MiB [] 78% 0.3s\u001b[0K\u001b[1G85.4 MiB [] 80% 0.3s\u001b[0K\u001b[1G85.4 MiB [] 81% 0.2s\u001b[0K\u001b[1G85.4 MiB [] 83% 0.2s\u001b[0K\u001b[1G85.4 MiB [] 85% 0.2s\u001b[0K\u001b[1G85.4 MiB [] 86% 0.2s\u001b[0K\u001b[1G85.4 MiB [] 88% 0.2s\u001b[0K\u001b[1G85.4 MiB [] 90% 0.1s\u001b[0K\u001b[1G85.4 MiB [] 91% 0.1s\u001b[0K\u001b[1G85.4 MiB [] 92% 0.1s\u001b[0K\u001b[1G85.4 MiB [] 94% 0.1s\u001b[0K\u001b[1G85.4 MiB [] 96% 0.0s\u001b[0K\u001b[1G85.4 MiB [] 98% 0.0s\u001b[0K\u001b[1G85.4 MiB [] 100% 0.0s\u001b[0K\n",
            "Firefox 124.0 (playwright build v1447) downloaded to /root/.cache/ms-playwright/firefox-1447\n",
            "Downloading Webkit 17.4 (playwright build v1992)\u001b[2m from https://playwright.azureedge.net/builds/webkit/1992/webkit-ubuntu-22.04.zip\u001b[22m\n",
            "\u001b[1G86.5 MiB [] 0% 0.0s\u001b[0K\u001b[1G86.5 MiB [] 0% 17.8s\u001b[0K\u001b[1G86.5 MiB [] 0% 7.4s\u001b[0K\u001b[1G86.5 MiB [] 0% 6.0s\u001b[0K\u001b[1G86.5 MiB [] 1% 5.3s\u001b[0K\u001b[1G86.5 MiB [] 1% 4.8s\u001b[0K\u001b[1G86.5 MiB [] 2% 4.6s\u001b[0K\u001b[1G86.5 MiB [] 2% 4.3s\u001b[0K\u001b[1G86.5 MiB [] 3% 4.2s\u001b[0K\u001b[1G86.5 MiB [] 3% 3.9s\u001b[0K\u001b[1G86.5 MiB [] 4% 3.8s\u001b[0K\u001b[1G86.5 MiB [] 4% 3.9s\u001b[0K\u001b[1G86.5 MiB [] 5% 3.7s\u001b[0K\u001b[1G86.5 MiB [] 5% 3.6s\u001b[0K\u001b[1G86.5 MiB [] 7% 3.2s\u001b[0K\u001b[1G86.5 MiB [] 7% 3.1s\u001b[0K\u001b[1G86.5 MiB [] 7% 3.2s\u001b[0K\u001b[1G86.5 MiB [] 8% 3.1s\u001b[0K\u001b[1G86.5 MiB [] 9% 3.0s\u001b[0K\u001b[1G86.5 MiB [] 10% 2.9s\u001b[0K\u001b[1G86.5 MiB [] 10% 2.8s\u001b[0K\u001b[1G86.5 MiB [] 12% 2.6s\u001b[0K\u001b[1G86.5 MiB [] 13% 2.5s\u001b[0K\u001b[1G86.5 MiB [] 14% 2.3s\u001b[0K\u001b[1G86.5 MiB [] 15% 2.3s\u001b[0K\u001b[1G86.5 MiB [] 16% 2.2s\u001b[0K\u001b[1G86.5 MiB [] 17% 2.2s\u001b[0K\u001b[1G86.5 MiB [] 18% 2.0s\u001b[0K\u001b[1G86.5 MiB [] 19% 1.9s\u001b[0K\u001b[1G86.5 MiB [] 20% 1.9s\u001b[0K\u001b[1G86.5 MiB [] 21% 1.9s\u001b[0K\u001b[1G86.5 MiB [] 22% 1.8s\u001b[0K\u001b[1G86.5 MiB [] 23% 1.7s\u001b[0K\u001b[1G86.5 MiB [] 24% 1.7s\u001b[0K\u001b[1G86.5 MiB [] 25% 1.7s\u001b[0K\u001b[1G86.5 MiB [] 26% 1.6s\u001b[0K\u001b[1G86.5 MiB [] 28% 1.6s\u001b[0K\u001b[1G86.5 MiB [] 29% 1.5s\u001b[0K\u001b[1G86.5 MiB [] 30% 1.5s\u001b[0K\u001b[1G86.5 MiB [] 31% 1.4s\u001b[0K\u001b[1G86.5 MiB [] 32% 1.4s\u001b[0K\u001b[1G86.5 MiB [] 34% 1.3s\u001b[0K\u001b[1G86.5 MiB [] 36% 1.2s\u001b[0K\u001b[1G86.5 MiB [] 37% 1.2s\u001b[0K\u001b[1G86.5 MiB [] 39% 1.1s\u001b[0K\u001b[1G86.5 MiB [] 41% 1.1s\u001b[0K\u001b[1G86.5 MiB [] 42% 1.1s\u001b[0K\u001b[1G86.5 MiB [] 44% 1.0s\u001b[0K\u001b[1G86.5 MiB [] 46% 1.0s\u001b[0K\u001b[1G86.5 MiB [] 47% 0.9s\u001b[0K\u001b[1G86.5 MiB [] 49% 0.9s\u001b[0K\u001b[1G86.5 MiB [] 50% 0.9s\u001b[0K\u001b[1G86.5 MiB [] 51% 0.8s\u001b[0K\u001b[1G86.5 MiB [] 53% 0.8s\u001b[0K\u001b[1G86.5 MiB [] 55% 0.7s\u001b[0K\u001b[1G86.5 MiB [] 57% 0.7s\u001b[0K\u001b[1G86.5 MiB [] 58% 0.7s\u001b[0K\u001b[1G86.5 MiB [] 60% 0.6s\u001b[0K\u001b[1G86.5 MiB [] 62% 0.6s\u001b[0K\u001b[1G86.5 MiB [] 63% 0.6s\u001b[0K\u001b[1G86.5 MiB [] 64% 0.6s\u001b[0K\u001b[1G86.5 MiB [] 66% 0.5s\u001b[0K\u001b[1G86.5 MiB [] 67% 0.5s\u001b[0K\u001b[1G86.5 MiB [] 68% 0.5s\u001b[0K\u001b[1G86.5 MiB [] 70% 0.5s\u001b[0K\u001b[1G86.5 MiB [] 72% 0.4s\u001b[0K\u001b[1G86.5 MiB [] 74% 0.4s\u001b[0K\u001b[1G86.5 MiB [] 76% 0.4s\u001b[0K\u001b[1G86.5 MiB [] 78% 0.3s\u001b[0K\u001b[1G86.5 MiB [] 80% 0.3s\u001b[0K\u001b[1G86.5 MiB [] 82% 0.3s\u001b[0K\u001b[1G86.5 MiB [] 83% 0.2s\u001b[0K\u001b[1G86.5 MiB [] 85% 0.2s\u001b[0K\u001b[1G86.5 MiB [] 87% 0.2s\u001b[0K\u001b[1G86.5 MiB [] 88% 0.2s\u001b[0K\u001b[1G86.5 MiB [] 90% 0.1s\u001b[0K\u001b[1G86.5 MiB [] 91% 0.1s\u001b[0K\u001b[1G86.5 MiB [] 92% 0.1s\u001b[0K\u001b[1G86.5 MiB [] 94% 0.1s\u001b[0K\u001b[1G86.5 MiB [] 95% 0.1s\u001b[0K\u001b[1G86.5 MiB [] 96% 0.1s\u001b[0K\u001b[1G86.5 MiB [] 97% 0.0s\u001b[0K\u001b[1G86.5 MiB [] 98% 0.0s\u001b[0K\u001b[1G86.5 MiB [] 100% 0.0s\u001b[0K\n",
            "Webkit 17.4 (playwright build v1992) downloaded to /root/.cache/ms-playwright/webkit-1992\n",
            "Playwright Host validation warning: \n",
            "╔══════════════════════════════════════════════════════╗\n",
            "║ Host system is missing dependencies to run browsers. ║\n",
            "║ Missing libraries:                                   ║\n",
            "║     libwoff2dec.so.1.0.2                             ║\n",
            "║     libgstgl-1.0.so.0                                ║\n",
            "║     libgstcodecparsers-1.0.so.0                      ║\n",
            "║     libharfbuzz-icu.so.0                             ║\n",
            "║     libenchant-2.so.2                                ║\n",
            "║     libsecret-1.so.0                                 ║\n",
            "║     libhyphen.so.0                                   ║\n",
            "║     libmanette-0.2.so.0                              ║\n",
            "╚══════════════════════════════════════════════════════╝\n",
            "    at validateDependenciesLinux (/usr/local/lib/python3.10/dist-packages/playwright/driver/package/lib/server/registry/dependencies.js:216:9)\n",
            "\u001b[90m    at process.processTicksAndRejections (node:internal/process/task_queues:95:5)\u001b[39m\n",
            "    at async Registry._validateHostRequirements (/usr/local/lib/python3.10/dist-packages/playwright/driver/package/lib/server/registry/index.js:587:43)\n",
            "    at async Registry._validateHostRequirementsForExecutableIfNeeded (/usr/local/lib/python3.10/dist-packages/playwright/driver/package/lib/server/registry/index.js:685:7)\n",
            "    at async Registry.validateHostRequirementsForExecutablesIfNeeded (/usr/local/lib/python3.10/dist-packages/playwright/driver/package/lib/server/registry/index.js:674:43)\n",
            "    at async t.<anonymous> (/usr/local/lib/python3.10/dist-packages/playwright/driver/package/lib/cli/program.js:119:7)\n"
          ]
        }
      ]
    },
    {
      "cell_type": "code",
      "source": [
        "import csv\n",
        "from playwright.async_api import async_playwright\n",
        "import asyncio\n",
        "\n",
        "async def scrape_links():\n",
        "    async with async_playwright() as p:\n",
        "        browser = await p.chromium.launch()\n",
        "        page = await browser.new_page()\n",
        "        await page.goto(\"https://www.ycombinator.com/companies?batch=W24&batch=S23&batch=W23&batch=S22\")\n",
        "\n",
        "        # Function to scroll to the bottom of the page\n",
        "        async def scroll_to_bottom():\n",
        "            await page.evaluate('window.scrollTo(0, document.body.scrollHeight)')\n",
        "            await asyncio.sleep(1)  # Wait for a short interval after scrolling\n",
        "\n",
        "        # Wait for the initial content to load\n",
        "        await page.wait_for_selector(\"._coName_99gj3_454\")\n",
        "\n",
        "        scraped_links = set()  # Using a set to store unique links\n",
        "\n",
        "        # Scrape initial links\n",
        "        link_elements = await page.query_selector_all(\"._company_99gj3_339\")\n",
        "        for link_element in link_elements:\n",
        "            link = await link_element.get_attribute(\"href\")\n",
        "            scraped_links.add(link)  # Add link to set\n",
        "\n",
        "        # Scroll and scrape until no more data is loaded\n",
        "        previous_height = await page.evaluate('document.body.scrollHeight')\n",
        "\n",
        "        while True:\n",
        "            # Scroll to the bottom\n",
        "            await scroll_to_bottom()\n",
        "\n",
        "            # Wait for a short interval to allow new content to load\n",
        "            await asyncio.sleep(2)\n",
        "\n",
        "            # Scrape newly loaded links\n",
        "            link_elements = await page.query_selector_all(\"._company_99gj3_339\")\n",
        "            for link_element in link_elements:\n",
        "                link = await link_element.get_attribute(\"href\")\n",
        "                scraped_links.add(link)  # Add link to set\n",
        "\n",
        "            # Check if new content is loaded\n",
        "            current_height = await page.evaluate('document.body.scrollHeight')\n",
        "            if current_height == previous_height:\n",
        "                break\n",
        "            else:\n",
        "                previous_height = current_height\n",
        "\n",
        "        # Convert set of links to a list\n",
        "        scraped_links_list = list(scraped_links)\n",
        "\n",
        "        # Save scraped links to a CSV file\n",
        "        csv_file_path = \"batch1_links.csv\"\n",
        "        with open(csv_file_path, mode='w', newline='') as file:\n",
        "            writer = csv.writer(file)\n",
        "            writer.writerow([\"link\"])\n",
        "            writer.writerows([[link] for link in scraped_links_list])\n",
        "\n",
        "        print(f\"Scraped links saved to {csv_file_path}\")\n",
        "\n",
        "        await browser.close()\n",
        "\n",
        "# Run the scraping function asynchronously\n",
        "await scrape_links()\n"
      ],
      "metadata": {
        "colab": {
          "base_uri": "https://localhost:8080/"
        },
        "id": "Yd2mBrV61lll",
        "outputId": "5f3164f4-eb39-4e9b-9513-731fced7a6f5"
      },
      "execution_count": null,
      "outputs": [
        {
          "output_type": "stream",
          "name": "stdout",
          "text": [
            "Scraped links saved to batch1_links.csv\n"
          ]
        }
      ]
    }
  ]
}